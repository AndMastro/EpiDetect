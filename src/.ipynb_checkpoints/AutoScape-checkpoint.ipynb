{
 "cells": [
  {
   "cell_type": "markdown",
   "metadata": {},
   "source": [
    "# Analysis with Cytoscape"
   ]
  },
  {
   "cell_type": "code",
   "execution_count": null,
   "metadata": {},
   "outputs": [],
   "source": [
    "from py2cytoscape import cyrest\n",
    "\n",
    "cy = cyrest.cyclient()\n",
    "network = cy.network.create()\n",
    "print(network.get_id())"
   ]
  },
  {
   "cell_type": "markdown",
   "metadata": {},
   "source": [
    "# Analysis with Networkx"
   ]
  },
  {
   "cell_type": "code",
   "execution_count": 1,
   "metadata": {},
   "outputs": [],
   "source": [
    "import networkx as nx"
   ]
  },
  {
   "cell_type": "code",
   "execution_count": 3,
   "metadata": {},
   "outputs": [],
   "source": [
    "DATA_FILE = \"sbp_top1000.txt\""
   ]
  },
  {
   "cell_type": "code",
   "execution_count": 4,
   "metadata": {},
   "outputs": [
    {
     "data": {
      "text/plain": [
       "'Name: \\nType: Graph\\nNumber of nodes: 188\\nNumber of edges: 1000\\nAverage degree:  10.6383'"
      ]
     },
     "execution_count": 4,
     "metadata": {},
     "output_type": "execute_result"
    }
   ],
   "source": [
    "edges = []\n",
    "\n",
    "with open(DATA_FILE, \"r\") as dataFile:\n",
    "    for row in dataFile:\n",
    "        line = row.strip().split(\"\\t\")\n",
    "        edges.append((line[2], line[3]))\n",
    "        \n",
    "G = nx.Graph()\n",
    "G.add_edges_from(edges)\n",
    "\n",
    "nx.info(G)"
   ]
  },
  {
   "cell_type": "code",
   "execution_count": 5,
   "metadata": {},
   "outputs": [
    {
     "name": "stdout",
     "output_type": "stream",
     "text": [
      "10.638297872340425\n"
     ]
    }
   ],
   "source": [
    "avg_degree = s = sum(dict(G.degree()).values())/G.number_of_nodes()\n",
    "print(avg_degree)"
   ]
  },
  {
   "cell_type": "code",
   "execution_count": 6,
   "metadata": {},
   "outputs": [
    {
     "name": "stdout",
     "output_type": "stream",
     "text": [
      "[('PRKAG1', 139), ('L2HGDH', 124), ('FARP2', 89), ('TFAP2D', 67), ('PTEN', 74), ('CNNM2', 48), ('RNY1P8', 41), ('AC004917.1', 22), ('SVEP1', 23), ('RBFOX1', 63), ('LPL', 52), ('AC011495.1', 36), ('HOXC4', 22), ('NAA60', 22), ('AC087664.2', 33), ('PDE11A', 10), ('AC007493.1', 32), ('INSR', 11), ('ZNF318', 18), ('BCAS3', 32), ('TTC28', 38), ('LINC01857', 2), ('C5orf67', 11), ('UFL1', 27), ('RPL17P50', 13), ('KCNK3', 16), ('FBN2', 11), ('LRCH1', 17), ('AC096555.1', 5), ('SPRY4', 9), ('PRKAG2', 11), ('LRBA', 10), ('AL590080.1', 8), ('HOXA3', 14), ('CHST9', 21), ('HTRA1', 15), ('STK39', 14), ('LINC00208', 3), ('SLC4A1AP', 1), ('MTHFR', 33), ('CLN8', 7), ('CDKAL1', 5), ('FAM13A', 15), ('AMPD3', 23), ('INPP5A', 12), ('NPR3', 11), ('LATS2', 20), ('CDC16', 26), ('HOXB7', 30), ('TMEM161B', 19), ('KDF1', 14), ('GLIS3', 16), ('CASZ1', 5), ('AC099541.1', 3), ('PTPRD', 3), ('JAZF1', 8), ('USP36', 7), ('FGR', 7), ('TOP3A', 6), ('LINC01478', 3), ('LINC02151', 14), ('HNF4GP1', 9), ('OR4A16', 8), ('ATP2B1', 9), ('RAD52', 19), ('DDHD2', 3), ('AC104596.1', 4), ('PCCB', 7), ('AC068888.1', 6), ('ATAD5', 9), ('NCOA7', 3), ('ITGA9', 5), ('ADCY3', 6), ('HIPK2', 4), ('LSP1', 11), ('NADK', 16), ('PREX2', 13), ('SZT2', 2), ('GRIN2B', 11), ('EBF2', 8), ('TUBBP2', 12), ('AGBL4', 16), ('LCORL', 4), ('C12orf75', 15), ('CELA2A', 7), ('AC005586.2', 4), ('YES1', 4), ('APOB', 17), ('NFATC2', 3), ('MAD1L1', 6), ('RBMS1', 5), ('MIR4418', 5), ('AC034231.1', 3), ('PLCD3', 4), ('NCALD', 10), ('TFCP2L1', 3), ('OR4A44P', 7), ('ZFPM2', 1), ('CWC27', 2), ('KLF14', 7), ('FBRSL1', 11), ('AC018735.1', 8), ('IER5L', 1), ('MKLN1', 2), ('FGD5', 1), ('WASF3', 6), ('PEPD', 2), ('CSRP3', 10), ('SOX5', 4), ('DOCK8', 2), ('PRDM6', 4), ('NPNT', 2), ('AC018953.1', 4), ('BCL2', 3), ('SIPA1', 6), ('USP4', 8), ('BANP', 4), ('DGKH', 5), ('MAST4', 3), ('PPP2R5E', 2), ('PRKD1', 6), ('TASOR2', 6), ('AC103409.1', 3), ('KANK1', 1), ('C1orf21', 4), ('SMOX', 5), ('IRF5', 2), ('AC062015.1', 1), ('GSE1', 6), ('RGS6', 2), ('AC079943.2', 1), ('RNF130', 4), ('AC072054.1', 1), ('TSNARE1', 3), ('GSDME', 1), ('CCT6A', 1), ('CPS1', 3), ('TBR1', 6), ('PDGFC', 4), ('AC094104.2', 1), ('LINC02172', 3), ('AC138627.1', 1), ('AC090469.2', 1), ('PLCE1', 1), ('CENPP', 2), ('AC021218.1', 1), ('ARHGEF25', 4), ('ARMC4', 2), ('AC073359.1', 1), ('NIBAN2', 1), ('PDE8A', 1), ('WDR7', 1), ('LINC01808', 2), ('TMEM108', 1), ('ZMAT2', 3), ('AC106053.1', 1), ('KDM4B', 3), ('CNTN3', 1), ('AHRR', 3), ('ZBTB10', 1), ('AL391117.1', 1), ('SEMA4A', 3), ('AC009126.1', 1), ('OR5B12', 4), ('FOXC1', 1), ('LTBP2', 1), ('OLA1', 2), ('OR4C50P', 1), ('LINC01091', 1), ('LINC01153', 2), ('RTN4', 1), ('TERT', 1), ('GVQW3', 1), ('KDM5A', 1), ('RNU6-412P', 3), ('TRIP12', 1), ('PRKD3', 1), ('NDUFAF6', 1), ('AF222685.1', 1), ('CRB1', 1), ('HSPA12A', 1), ('AC007923.2', 2), ('FGF9', 1), ('RPL31P57', 1), ('XPR1', 1), ('HIC1', 1), ('IRF6', 1), ('YEATS2', 1)]\n"
     ]
    }
   ],
   "source": [
    "deg = G.degree()\n",
    "print(deg)"
   ]
  },
  {
   "cell_type": "markdown",
   "metadata": {},
   "source": [
    "Create graph usong only central genes (deg > avg_degree)"
   ]
  },
  {
   "cell_type": "code",
   "execution_count": 7,
   "metadata": {},
   "outputs": [
    {
     "name": "stdout",
     "output_type": "stream",
     "text": [
      "53\n"
     ]
    }
   ],
   "source": [
    "central_genes = []\n",
    "\n",
    "for pair in deg:\n",
    "    if pair[1] > avg_degree:\n",
    "        central_genes.append(pair[0])\n",
    "        \n",
    "print(len(central_genes))"
   ]
  },
  {
   "cell_type": "code",
   "execution_count": 8,
   "metadata": {},
   "outputs": [
    {
     "name": "stdout",
     "output_type": "stream",
     "text": [
      "[('PRKAG1', 'L2HGDH'), ('FARP2', 'PRKAG1'), ('TFAP2D', 'PRKAG1'), ('PTEN', 'CNNM2'), ('CNNM2', 'PRKAG1'), ('PRKAG1', 'RNY1P8'), ('PTEN', 'PRKAG1'), ('AC004917.1', 'PRKAG1'), ('RNY1P8', 'L2HGDH'), ('TFAP2D', 'L2HGDH'), ('CNNM2', 'L2HGDH'), ('FARP2', 'L2HGDH'), ('PTEN', 'L2HGDH'), ('FARP2', 'PTEN'), ('SVEP1', 'PRKAG1'), ('FARP2', 'TFAP2D'), ('TFAP2D', 'CNNM2'), ('L2HGDH', 'RBFOX1'), ('LPL', 'L2HGDH'), ('PRKAG1', 'RBFOX1'), ('FARP2', 'RNY1P8'), ('FARP2', 'SVEP1'), ('AC004917.1', 'L2HGDH'), ('TFAP2D', 'RNY1P8'), ('LPL', 'CNNM2'), ('PRKAG1', 'AC011495.1'), ('LPL', 'PRKAG1'), ('PRKAG1', 'HOXC4'), ('PRKAG1', 'NAA60'), ('FARP2', 'CNNM2'), ('AC087664.2', 'L2HGDH'), ('L2HGDH', 'NAA60'), ('CNNM2', 'RBFOX1'), ('FARP2', 'AC011495.1'), ('RNY1P8', 'NAA60'), ('HOXC4', 'L2HGDH'), ('PRKAG1', 'AC007493.1'), ('RNY1P8', 'INSR'), ('TFAP2D', 'LPL'), ('L2HGDH', 'AC011495.1'), ('SVEP1', 'L2HGDH'), ('FARP2', 'AC007493.1'), ('PTEN', 'RNY1P8'), ('ZNF318', 'RNY1P8'), ('FARP2', 'RBFOX1'), ('SVEP1', 'CNNM2'), ('PRKAG1', 'BCAS3'), ('PRKAG1', 'TTC28'), ('FARP2', 'HOXC4'), ('ZNF318', 'L2HGDH'), ('AC087664.2', 'PRKAG1'), ('LPL', 'PTEN'), ('C5orf67', 'PRKAG1'), ('FARP2', 'UFL1'), ('RPL17P50', 'L2HGDH'), ('FARP2', 'LPL'), ('RPL17P50', 'PRKAG1'), ('FARP2', 'INSR'), ('PRKAG1', 'INSR'), ('FARP2', 'TTC28'), ('KCNK3', 'PRKAG1'), ('FARP2', 'FBN2'), ('L2HGDH', 'BCAS3'), ('LRCH1', 'L2HGDH'), ('LPL', 'NAA60'), ('LPL', 'RBFOX1'), ('PRKAG2', 'PRKAG1'), ('TFAP2D', 'PTEN'), ('TFAP2D', 'RBFOX1'), ('FARP2', 'HOXA3'), ('PRKAG1', 'CHST9'), ('HTRA1', 'PRKAG1'), ('STK39', 'PRKAG1'), ('CNNM2', 'RNY1P8'), ('RNY1P8', 'AC011495.1'), ('UFL1', 'L2HGDH'), ('MTHFR', 'PRKAG1'), ('SVEP1', 'RBFOX1'), ('UFL1', 'PRKAG1'), ('CNNM2', 'BCAS3'), ('CNNM2', 'TTC28'), ('SVEP1', 'PTEN'), ('FAM13A', 'L2HGDH'), ('AMPD3', 'PRKAG1'), ('MTHFR', 'L2HGDH'), ('INPP5A', 'PRKAG1'), ('NPR3', 'L2HGDH'), ('PRKAG1', 'LATS2'), ('HOXA3', 'L2HGDH'), ('HOXA3', 'PRKAG1'), ('CDC16', 'L2HGDH'), ('FAM13A', 'PRKAG1'), ('HOXA3', 'HOXB7'), ('FARP2', 'BCAS3'), ('RNY1P8', 'TTC28'), ('TMEM161B', 'PRKAG1'), ('KDF1', 'L2HGDH'), ('KDF1', 'PRKAG1'), ('GLIS3', 'L2HGDH'), ('FARP2', 'AC087664.2'), ('FARP2', 'NAA60'), ('FARP2', 'CHST9'), ('PTEN', 'RBFOX1'), ('TFAP2D', 'AC011495.1'), ('ZNF318', 'TFAP2D'), ('TMEM161B', 'L2HGDH'), ('PRKAG1', 'CDC16'), ('L2HGDH', 'TTC28'), ('ZNF318', 'PRKAG1'), ('LPL', 'GLIS3'), ('KCNK3', 'FARP2'), ('RNY1P8', 'AC007493.1'), ('LINC02151', 'PRKAG1'), ('HTRA1', 'RNY1P8'), ('HOXC4', 'RNY1P8'), ('RAD52', 'PRKAG1'), ('MTHFR', 'RNY1P8'), ('AC004917.1', 'RNY1P8'), ('LINC02151', 'RBFOX1'), ('PTEN', 'AMPD3'), ('FARP2', 'RAD52'), ('AC087664.2', 'BCAS3'), ('AC004917.1', 'SVEP1'), ('LPL', 'RNY1P8'), ('MTHFR', 'TTC28'), ('AC087664.2', 'CNNM2'), ('CNNM2', 'LRCH1'), ('SVEP1', 'LRCH1'), ('RBFOX1', 'TTC28'), ('PRKAG1', 'LRCH1'), ('FBN2', 'L2HGDH'), ('CNNM2', 'LINC02151'), ('RNY1P8', 'BCAS3'), ('TMEM161B', 'PTEN'), ('LPL', 'SVEP1'), ('TFAP2D', 'SVEP1'), ('C5orf67', 'L2HGDH'), ('TFAP2D', 'AC087664.2'), ('FARP2', 'AC004917.1'), ('TFAP2D', 'TTC28'), ('FARP2', 'LSP1'), ('NADK', 'LATS2'), ('L2HGDH', 'HOXB7'), ('PREX2', 'L2HGDH'), ('TFAP2D', 'INSR'), ('TMEM161B', 'GRIN2B'), ('PTEN', 'NAA60'), ('TFAP2D', 'HOXC4'), ('HOXC4', 'BCAS3'), ('FARP2', 'CDC16'), ('PTEN', 'TTC28'), ('PTEN', 'AC007493.1'), ('UFL1', 'HOXA3'), ('CDC16', 'TTC28'), ('TUBBP2', 'RBFOX1'), ('FARP2', 'AMPD3'), ('BCAS3', 'AC011495.1'), ('MTHFR', 'PTEN'), ('UFL1', 'BCAS3'), ('AGBL4', 'L2HGDH'), ('TFAP2D', 'NAA60'), ('KCNK3', 'L2HGDH'), ('NADK', 'PRKAG1'), ('PRKAG1', 'HOXB7'), ('RPL17P50', 'RNY1P8'), ('TUBBP2', 'L2HGDH'), ('AMPD3', 'C12orf75'), ('FARP2', 'NPR3'), ('UFL1', 'CNNM2'), ('TFAP2D', 'PRKAG2'), ('LINC02151', 'L2HGDH'), ('AC087664.2', 'RBFOX1'), ('RBFOX1', 'AC011495.1'), ('AC007493.1', 'TTC28'), ('AC087664.2', 'PTEN'), ('APOB', 'PRKAG1'), ('HOXB7', 'BCAS3'), ('UFL1', 'TTC28'), ('TFAP2D', 'UFL1'), ('CDC16', 'AC011495.1'), ('FBN2', 'TFAP2D'), ('LPL', 'HOXC4'), ('KDF1', 'HOXA3'), ('NADK', 'FARP2'), ('GRIN2B', 'PRKAG1'), ('STK39', 'FARP2'), ('UFL1', 'AC011495.1'), ('TFAP2D', 'HTRA1'), ('RAD52', 'AC007493.1'), ('NPR3', 'AC087664.2'), ('AMPD3', 'CHST9'), ('KDF1', 'TFAP2D'), ('AC007493.1', 'CHST9'), ('PTEN', 'HOXC4'), ('AC007493.1', 'INSR'), ('KCNK3', 'RBFOX1'), ('GLIS3', 'RNY1P8'), ('LSP1', 'L2HGDH'), ('AC004917.1', 'RPL17P50'), ('SVEP1', 'RNY1P8'), ('L2HGDH', 'CHST9'), ('AGBL4', 'PREX2'), ('UFL1', 'PTEN'), ('C5orf67', 'TFAP2D'), ('SVEP1', 'AC007493.1'), ('AMPD3', 'AC007493.1'), ('ZNF318', 'HOXC4'), ('TMEM161B', 'TFAP2D'), ('L2HGDH', 'AC007493.1'), ('STK39', 'TFAP2D'), ('TFAP2D', 'AC007493.1'), ('LPL', 'TTC28'), ('NPR3', 'PRKAG1'), ('MTHFR', 'ZNF318'), ('PRKAG2', 'L2HGDH'), ('UFL1', 'CDC16'), ('PTEN', 'CDC16'), ('FBRSL1', 'TTC28'), ('AC004917.1', 'AC007493.1'), ('TFAP2D', 'TUBBP2'), ('CNNM2', 'HOXB7'), ('UFL1', 'HOXB7'), ('STK39', 'RNY1P8'), ('KDF1', 'RBFOX1'), ('RNY1P8', 'RBFOX1'), ('FAM13A', 'TTC28'), ('RBFOX1', 'BCAS3'), ('FAM13A', 'RBFOX1'), ('NADK', 'UFL1'), ('KCNK3', 'CNNM2'), ('CHST9', 'AC011495.1'), ('HOXA3', 'CNNM2'), ('ZNF318', 'AC011495.1'), ('LSP1', 'C12orf75'), ('GLIS3', 'TTC28'), ('AC087664.2', 'RNY1P8'), ('APOB', 'L2HGDH'), ('PTEN', 'RAD52'), ('FARP2', 'TUBBP2'), ('ZNF318', 'AC087664.2'), ('SVEP1', 'TTC28'), ('AC007493.1', 'AC011495.1'), ('ZNF318', 'NAA60'), ('HOXA3', 'BCAS3'), ('KDF1', 'UFL1'), ('AMPD3', 'L2HGDH'), ('FARP2', 'INPP5A'), ('LATS2', 'LRCH1'), ('LATS2', 'L2HGDH'), ('CNNM2', 'AC011495.1'), ('HOXC4', 'AC011495.1'), ('CDC16', 'RBFOX1'), ('SVEP1', 'NAA60'), ('MTHFR', 'AC007493.1'), ('HOXB7', 'CHST9'), ('PRKAG1', 'C12orf75'), ('C5orf67', 'PTEN'), ('UFL1', 'CHST9'), ('CNNM2', 'CDC16'), ('UFL1', 'AC087664.2'), ('FARP2', 'LRCH1'), ('FBN2', 'PRKAG1'), ('INPP5A', 'RNY1P8'), ('RAD52', 'CHST9'), ('RAD52', 'HOXB7'), ('MTHFR', 'RBFOX1'), ('APOB', 'AMPD3'), ('HTRA1', 'L2HGDH'), ('FARP2', 'HTRA1'), ('PTEN', 'INSR'), ('AGBL4', 'RBFOX1'), ('CNNM2', 'HOXC4'), ('TMEM161B', 'LATS2'), ('FARP2', 'ZNF318'), ('C5orf67', 'RBFOX1'), ('STK39', 'L2HGDH'), ('KDF1', 'CNNM2'), ('INPP5A', 'L2HGDH'), ('AC004917.1', 'RBFOX1'), ('PRKAG2', 'RBFOX1'), ('AGBL4', 'RNY1P8'), ('PTEN', 'AC011495.1'), ('ZNF318', 'BCAS3'), ('KCNK3', 'LPL'), ('PREX2', 'PRKAG1'), ('MTHFR', 'RAD52'), ('HTRA1', 'INSR'), ('FARP2', 'HOXB7'), ('LATS2', 'RBFOX1'), ('PRKAG2', 'PTEN'), ('KCNK3', 'TFAP2D'), ('APOB', 'LRCH1'), ('PTEN', 'BCAS3'), ('HOXA3', 'PTEN'), ('TFAP2D', 'CDC16'), ('AMPD3', 'LRCH1'), ('BCAS3', 'TTC28'), ('KDF1', 'BCAS3'), ('APOB', 'FARP2'), ('APOB', 'LPL'), ('TFAP2D', 'HOXA3'), ('FBRSL1', 'RBFOX1'), ('NPR3', 'UFL1'), ('PTEN', 'INPP5A'), ('SVEP1', 'RAD52'), ('RAD52', 'TTC28'), ('NPR3', 'CNNM2'), ('NADK', 'PTEN'), ('CNNM2', 'AC007493.1'), ('NPR3', 'PTEN'), ('PTEN', 'C12orf75'), ('CDC16', 'BCAS3'), ('C5orf67', 'CNNM2'), ('AGBL4', 'HTRA1'), ('RPL17P50', 'PTEN'), ('LPL', 'CDC16'), ('C12orf75', 'TUBBP2'), ('TFAP2D', 'BCAS3'), ('GLIS3', 'C12orf75'), ('KCNK3', 'PTEN'), ('FBN2', 'PRKAG2'), ('HOXC4', 'AC007493.1'), ('FARP2', 'FAM13A'), ('APOB', 'SVEP1'), ('C12orf75', 'AC011495.1'), ('FBRSL1', 'RNY1P8'), ('GLIS3', 'LSP1'), ('AGBL4', 'PRKAG1'), ('MTHFR', 'FAM13A'), ('SVEP1', 'AC011495.1'), ('FARP2', 'LATS2'), ('PRKAG1', 'FBRSL1'), ('FBRSL1', 'L2HGDH'), ('HOXC4', 'HOXB7'), ('KDF1', 'TTC28'), ('TMEM161B', 'RPL17P50'), ('LPL', 'LSP1'), ('LPL', 'AMPD3'), ('RAD52', 'GRIN2B'), ('AC004917.1', 'LRCH1'), ('AC004917.1', 'LPL'), ('LPL', 'LINC02151'), ('APOB', 'HOXB7'), ('UFL1', 'AMPD3'), ('KCNK3', 'AC011495.1'), ('NADK', 'TTC28'), ('CDC16', 'HOXB7'), ('LSP1', 'PRKAG1'), ('FARP2', 'PREX2'), ('NADK', 'L2HGDH'), ('MTHFR', 'FARP2'), ('HOXA3', 'HOXC4'), ('PTEN', 'LRCH1'), ('AGBL4', 'NAA60'), ('AC004917.1', 'INPP5A'), ('AC087664.2', 'HOXC4'), ('NPR3', 'RBFOX1'), ('TFAP2D', 'AMPD3'), ('AC087664.2', 'AC007493.1'), ('LSP1', 'RBFOX1'), ('STK39', 'AC007493.1'), ('RAD52', 'LATS2'), ('PTEN', 'LINC02151'), ('C5orf67', 'AC011495.1'), ('CDC16', 'AC007493.1'), ('RBFOX1', 'AC007493.1'), ('AGBL4', 'BCAS3'), ('TFAP2D', 'INPP5A'), ('FAM13A', 'TFAP2D'), ('CHST9', 'TTC28'), ('AMPD3', 'GRIN2B'), ('INPP5A', 'AC007493.1'), ('MTHFR', 'PRKAG2'), ('GLIS3', 'RBFOX1'), ('AC087664.2', 'INSR'), ('FAM13A', 'RNY1P8'), ('FARP2', 'GLIS3'), ('PTEN', 'HTRA1'), ('RNY1P8', 'CHST9'), ('LPL', 'AC011495.1'), ('FARP2', 'TMEM161B'), ('FARP2', 'C12orf75'), ('LRCH1', 'HOXB7'), ('PREX2', 'RBFOX1'), ('RAD52', 'AC011495.1'), ('RAD52', 'RNY1P8'), ('MTHFR', 'CDC16'), ('FBN2', 'PTEN'), ('RPL17P50', 'HTRA1'), ('FAM13A', 'NAA60'), ('AC007493.1', 'BCAS3'), ('KDF1', 'LPL'), ('UFL1', 'RBFOX1'), ('GLIS3', 'TUBBP2'), ('AC004917.1', 'CNNM2'), ('AC004917.1', 'NAA60'), ('SVEP1', 'HOXB7'), ('C5orf67', 'CDC16'), ('RAD52', 'RBFOX1'), ('MTHFR', 'AGBL4'), ('PRKAG2', 'RNY1P8'), ('LINC02151', 'HOXB7'), ('AMPD3', 'RAD52'), ('GLIS3', 'PRKAG1'), ('LPL', 'FBRSL1'), ('LPL', 'GRIN2B'), ('TMEM161B', 'AMPD3'), ('KCNK3', 'TUBBP2'), ('CNNM2', 'TUBBP2'), ('LSP1', 'AC011495.1'), ('LRCH1', 'RBFOX1'), ('SVEP1', 'HOXC4'), ('AC087664.2', 'AC011495.1'), ('PTEN', 'TUBBP2'), ('HOXC4', 'NAA60'), ('APOB', 'AC004917.1'), ('PTEN', 'LATS2'), ('C12orf75', 'RBFOX1'), ('LINC02151', 'NAA60'), ('PREX2', 'PTEN'), ('APOB', 'KCNK3'), ('GRIN2B', 'HOXB7'), ('CNNM2', 'LATS2'), ('HTRA1', 'RBFOX1'), ('AMPD3', 'LATS2'), ('CNNM2', 'NAA60'), ('RBFOX1', 'HOXB7'), ('GLIS3', 'FBRSL1'), ('GLIS3', 'PTEN'), ('LRCH1', 'BCAS3'), ('STK39', 'RPL17P50'), ('TMEM161B', 'NAA60'), ('C12orf75', 'L2HGDH'), ('STK39', 'PTEN'), ('LINC02151', 'GRIN2B'), ('TFAP2D', 'LINC02151'), ('MTHFR', 'HOXB7'), ('FAM13A', 'FBN2'), ('NADK', 'TFAP2D'), ('LPL', 'HOXB7'), ('TFAP2D', 'CHST9'), ('NAA60', 'INSR'), ('MTHFR', 'AC087664.2'), ('STK39', 'LPL'), ('C5orf67', 'PRKAG2'), ('GRIN2B', 'AC007493.1'), ('LSP1', 'TUBBP2'), ('FAM13A', 'TMEM161B'), ('PRKAG2', 'CNNM2'), ('AMPD3', 'HOXB7'), ('HOXC4', 'TTC28'), ('AC004917.1', 'GRIN2B'), ('NADK', 'AC087664.2'), ('AC004917.1', 'PREX2'), ('ZNF318', 'AC007493.1'), ('PREX2', 'HOXC4'), ('STK39', 'TMEM161B'), ('BCAS3', 'CHST9'), ('CNNM2', 'AMPD3'), ('TFAP2D', 'PREX2'), ('KDF1', 'FARP2'), ('NADK', 'CHST9'), ('AGBL4', 'FARP2'), ('SVEP1', 'AMPD3'), ('KCNK3', 'C12orf75'), ('MTHFR', 'FBRSL1'), ('AC087664.2', 'HTRA1'), ('ZNF318', 'HTRA1'), ('LPL', 'LRCH1'), ('RPL17P50', 'LRCH1'), ('NADK', 'AC007493.1'), ('FARP2', 'FBRSL1'), ('AC004917.1', 'HOXB7'), ('MTHFR', 'BCAS3'), ('TFAP2D', 'RPL17P50'), ('HTRA1', 'BCAS3'), ('NADK', 'TMEM161B'), ('MTHFR', 'CHST9'), ('AC004917.1', 'AC011495.1'), ('AC004917.1', 'BCAS3'), ('PRKAG2', 'CDC16'), ('CDC16', 'NAA60'), ('AC087664.2', 'LATS2'), ('AMPD3', 'AC011495.1'), ('TFAP2D', 'LATS2'), ('APOB', 'INPP5A'), ('APOB', 'AC011495.1'), ('PTEN', 'CHST9'), ('KDF1', 'AC087664.2'), ('HOXB7', 'AC011495.1'), ('NPR3', 'TFAP2D'), ('AC087664.2', 'LSP1'), ('LATS2', 'HOXB7'), ('KDF1', 'PTEN'), ('AC004917.1', 'LATS2'), ('MTHFR', 'CNNM2'), ('NADK', 'FBN2'), ('MTHFR', 'GLIS3'), ('INSR', 'TTC28'), ('LPL', 'AC007493.1'), ('APOB', 'CNNM2'), ('STK39', 'AMPD3'), ('FARP2', 'C5orf67'), ('TMEM161B', 'RAD52'), ('TFAP2D', 'FBRSL1'), ('AMPD3', 'CDC16'), ('STK39', 'GRIN2B'), ('UFL1', 'LPL'), ('INPP5A', 'AC011495.1'), ('APOB', 'PTEN'), ('FARP2', 'LINC02151'), ('APOB', 'NAA60'), ('PREX2', 'AC011495.1'), ('FAM13A', 'CDC16'), ('KCNK3', 'AC004917.1'), ('NAA60', 'RBFOX1'), ('TMEM161B', 'CHST9'), ('SVEP1', 'LINC02151'), ('HOXA3', 'RNY1P8'), ('UFL1', 'HOXC4'), ('ZNF318', 'TTC28'), ('MTHFR', 'NPR3'), ('FBN2', 'LPL'), ('HOXC4', 'RBFOX1'), ('FARP2', 'GRIN2B'), ('AC087664.2', 'RPL17P50'), ('LPL', 'TUBBP2'), ('NAA60', 'TTC28'), ('LSP1', 'CDC16'), ('AGBL4', 'UFL1'), ('LATS2', 'BCAS3'), ('MTHFR', 'UFL1'), ('MTHFR', 'PREX2'), ('TFAP2D', 'RAD52'), ('STK39', 'AC011495.1'), ('AGBL4', 'AC087664.2'), ('ZNF318', 'INSR')]\n"
     ]
    }
   ],
   "source": [
    "central_edges = []\n",
    "\n",
    "for gene1, gene2 in edges:\n",
    "    if gene1 in central_genes and gene2 in central_genes:\n",
    "        central_edges.append((gene1, gene2))\n",
    "        \n",
    "print(central_edges)"
   ]
  },
  {
   "cell_type": "code",
   "execution_count": 10,
   "metadata": {},
   "outputs": [
    {
     "data": {
      "text/plain": [
       "'Name: \\nType: Graph\\nNumber of nodes: 53\\nNumber of edges: 537\\nAverage degree:  20.2642'"
      ]
     },
     "execution_count": 10,
     "metadata": {},
     "output_type": "execute_result"
    }
   ],
   "source": [
    "central_G = nx.Graph()\n",
    "\n",
    "central_G.add_edges_from(central_edges)\n",
    "\n",
    "nx.info(central_G)"
   ]
  },
  {
   "cell_type": "code",
   "execution_count": 11,
   "metadata": {},
   "outputs": [
    {
     "data": {
      "text/plain": [
       "NodeView(('PRKAG1', 'L2HGDH', 'FARP2', 'TFAP2D', 'PTEN', 'CNNM2', 'RNY1P8', 'AC004917.1', 'SVEP1', 'RBFOX1', 'LPL', 'AC011495.1', 'HOXC4', 'NAA60', 'AC087664.2', 'AC007493.1', 'INSR', 'ZNF318', 'BCAS3', 'TTC28', 'C5orf67', 'UFL1', 'RPL17P50', 'KCNK3', 'FBN2', 'LRCH1', 'PRKAG2', 'HOXA3', 'CHST9', 'HTRA1', 'STK39', 'MTHFR', 'FAM13A', 'AMPD3', 'INPP5A', 'NPR3', 'LATS2', 'CDC16', 'HOXB7', 'TMEM161B', 'KDF1', 'GLIS3', 'LINC02151', 'RAD52', 'LSP1', 'NADK', 'PREX2', 'GRIN2B', 'TUBBP2', 'AGBL4', 'C12orf75', 'APOB', 'FBRSL1'))"
      ]
     },
     "execution_count": 11,
     "metadata": {},
     "output_type": "execute_result"
    }
   ],
   "source": [
    "central_G.nodes()"
   ]
  },
  {
   "cell_type": "code",
   "execution_count": 12,
   "metadata": {},
   "outputs": [],
   "source": [
    "SAVE_PATH = DATA_FILE[:-4] + \"_CENTRAL_GENES.txt\"\n",
    "genes_list = list(central_G.nodes())\n",
    "\n",
    "with open(SAVE_PATH, \"w+\") as saveFile:\n",
    "    for gene in genes_list:\n",
    "        saveFile.write(gene + \"\\n\")"
   ]
  },
  {
   "cell_type": "code",
   "execution_count": 20,
   "metadata": {},
   "outputs": [
    {
     "data": {
      "text/plain": [
       "[('PRKAG1', 139),\n",
       " ('L2HGDH', 124),\n",
       " ('FARP2', 89),\n",
       " ('PTEN', 74),\n",
       " ('TFAP2D', 67),\n",
       " ('RBFOX1', 63),\n",
       " ('LPL', 52),\n",
       " ('CNNM2', 48),\n",
       " ('RNY1P8', 41),\n",
       " ('TTC28', 38),\n",
       " ('AC011495.1', 36),\n",
       " ('AC087664.2', 33),\n",
       " ('MTHFR', 33),\n",
       " ('AC007493.1', 32),\n",
       " ('BCAS3', 32),\n",
       " ('HOXB7', 30),\n",
       " ('UFL1', 27),\n",
       " ('CDC16', 26),\n",
       " ('SVEP1', 23),\n",
       " ('AMPD3', 23),\n",
       " ('AC004917.1', 22),\n",
       " ('HOXC4', 22),\n",
       " ('NAA60', 22),\n",
       " ('CHST9', 21),\n",
       " ('LATS2', 20),\n",
       " ('TMEM161B', 19),\n",
       " ('RAD52', 19),\n",
       " ('ZNF318', 18),\n",
       " ('LRCH1', 17),\n",
       " ('APOB', 17),\n",
       " ('KCNK3', 16),\n",
       " ('GLIS3', 16),\n",
       " ('NADK', 16),\n",
       " ('AGBL4', 16),\n",
       " ('HTRA1', 15),\n",
       " ('FAM13A', 15),\n",
       " ('C12orf75', 15),\n",
       " ('HOXA3', 14),\n",
       " ('STK39', 14),\n",
       " ('KDF1', 14),\n",
       " ('LINC02151', 14),\n",
       " ('RPL17P50', 13),\n",
       " ('PREX2', 13),\n",
       " ('INPP5A', 12),\n",
       " ('TUBBP2', 12),\n",
       " ('INSR', 11),\n",
       " ('C5orf67', 11),\n",
       " ('FBN2', 11),\n",
       " ('PRKAG2', 11),\n",
       " ('NPR3', 11),\n",
       " ('LSP1', 11),\n",
       " ('GRIN2B', 11),\n",
       " ('FBRSL1', 11)]"
      ]
     },
     "execution_count": 20,
     "metadata": {},
     "output_type": "execute_result"
    }
   ],
   "source": [
    "deg_list = sorted(list(G.degree()), reverse = True, key = lambda x:x[1])\n",
    "\n",
    "central_deg_list = []\n",
    "\n",
    "for gene in deg_list:\n",
    "    if gene[0] in genes_list:\n",
    "        central_deg_list.append(gene)\n",
    "        \n",
    "sorted(central_deg_list, reverse = True, key = lambda x:x[1])"
   ]
  },
  {
   "cell_type": "markdown",
   "metadata": {},
   "source": [
    "To add: take in input interaction file and centrality measure to use. Then, return a file with central genes: GENE_NAME DEG_ORIGINAL DEG_CENTRAL_NETWORK + avg degree in both networks (may be useful). To that for now, then, decide if consider edge weight."
   ]
  },
  {
   "cell_type": "code",
   "execution_count": null,
   "metadata": {},
   "outputs": [],
   "source": []
  }
 ],
 "metadata": {
  "kernelspec": {
   "display_name": "Python 3",
   "language": "python",
   "name": "python3"
  },
  "language_info": {
   "codemirror_mode": {
    "name": "ipython",
    "version": 3
   },
   "file_extension": ".py",
   "mimetype": "text/x-python",
   "name": "python",
   "nbconvert_exporter": "python",
   "pygments_lexer": "ipython3",
   "version": "3.6.5"
  }
 },
 "nbformat": 4,
 "nbformat_minor": 2
}
